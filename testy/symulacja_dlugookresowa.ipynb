{
 "cells": [
  {
   "cell_type": "code",
   "execution_count": null,
   "metadata": {},
   "outputs": [],
   "source": [
    "#wyłączenie autoscrolla"
   ]
  },
  {
   "cell_type": "code",
   "execution_count": null,
   "metadata": {
    "scrolled": true
   },
   "outputs": [],
   "source": [
    "%%javascript\n",
    "IPython.OutputArea.prototype._should_scroll = function(lines) {\n",
    "    return false;\n",
    "}"
   ]
  },
  {
   "cell_type": "code",
   "execution_count": null,
   "metadata": {},
   "outputs": [],
   "source": [
    "from testy.konfiguracje.graf2.test_data import pois_raw, node_dict, edge_dict\n",
    "import graph_creator as gc\n",
    "import simulator as sim\n",
    "sim.TURN_ON_ANIMATION_UPDATE = False\n",
    "sim.SIMULATION_TIME = 5000000000\n",
    "sim.TIME_INACTIVE = 5*60 + 120\n",
    "\n",
    "sim.TIME_STEP_SUPERVISOR_SIM = 20  # w sekundach\n",
    "sim.TIME_STEP_ROBOT_SIM = 5 # w sekundach"
   ]
  },
  {
   "cell_type": "code",
   "execution_count": null,
   "metadata": {
    "scrolled": true
   },
   "outputs": [],
   "source": [
    "gc.OFFLINE_TEST = True\n",
    "gc.MAIN_CORRIDOR_WIDTH = 0.2\n",
    "graph = gc.SupervisorGraphCreator(node_dict, edge_dict, pois_raw)\n",
    "test = sim.Simulator(pois_raw)\n",
    "test.gui.main_tab_widget"
   ]
  },
  {
   "cell_type": "code",
   "execution_count": null,
   "metadata": {
    "scrolled": true
   },
   "outputs": [],
   "source": [
    "test.config(graph)\n",
    "test.run()"
   ]
  },
  {
   "cell_type": "code",
   "execution_count": null,
   "metadata": {},
   "outputs": [],
   "source": [
    "graph.print_graph()"
   ]
  },
  {
   "cell_type": "code",
   "execution_count": null,
   "metadata": {
    "scrolled": true
   },
   "outputs": [],
   "source": [
    "import simulator as sim\n",
    "analyzer = sim.DataAnalyzer(\"\")\n",
    "analyzer.run()"
   ]
  },
  {
   "cell_type": "code",
   "execution_count": null,
   "metadata": {},
   "outputs": [],
   "source": [
    "analyzer.animate_graph(traffic_graph=True)"
   ]
  },
  {
   "cell_type": "code",
   "execution_count": null,
   "metadata": {},
   "outputs": [],
   "source": []
  }
 ],
 "metadata": {
  "kernelspec": {
   "display_name": "Python 3",
   "language": "python",
   "name": "python3"
  },
  "language_info": {
   "codemirror_mode": {
    "name": "ipython",
    "version": 3
   },
   "file_extension": ".py",
   "mimetype": "text/x-python",
   "name": "python",
   "nbconvert_exporter": "python",
   "pygments_lexer": "ipython3",
   "version": "3.5.2"
  }
 },
 "nbformat": 4,
 "nbformat_minor": 4
}
